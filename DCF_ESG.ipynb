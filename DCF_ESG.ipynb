{
 "cells": [
  {
   "cell_type": "markdown",
   "id": "cd9cecb1-70ce-480f-a776-17aa53e39edf",
   "metadata": {},
   "source": [
    "# DCF with ESG premium - Calculate the fair value of FAANGS and add premium for ESG scores"
   ]
  },
  {
   "cell_type": "markdown",
   "id": "2a18641b-8f14-4414-bb2e-ce2b36ad3929",
   "metadata": {},
   "source": [
    "## Part 1\n",
    "Import data from the CSV files with FAANG data and convert to pandas DataFrames."
   ]
  },
  {
   "cell_type": "code",
   "execution_count": 2,
   "id": "de28060b-ffbb-47dc-811f-ccdb0f28c9e3",
   "metadata": {},
   "outputs": [],
   "source": [
    "#Import necessary modules\n",
    "import pandas as pd\n",
    "from pathlib import Path\n",
    "%matplotlib inline"
   ]
  },
  {
   "cell_type": "code",
   "execution_count": 3,
   "id": "b2a324df-adee-4544-bc4c-5e837e6d3c87",
   "metadata": {},
   "outputs": [
    {
     "data": {
      "text/html": [
       "<div>\n",
       "<style scoped>\n",
       "    .dataframe tbody tr th:only-of-type {\n",
       "        vertical-align: middle;\n",
       "    }\n",
       "\n",
       "    .dataframe tbody tr th {\n",
       "        vertical-align: top;\n",
       "    }\n",
       "\n",
       "    .dataframe thead th {\n",
       "        text-align: right;\n",
       "    }\n",
       "</style>\n",
       "<table border=\"1\" class=\"dataframe\">\n",
       "  <thead>\n",
       "    <tr style=\"text-align: right;\">\n",
       "      <th></th>\n",
       "      <th>DEBT</th>\n",
       "      <th>CASH &amp; EQUIVALENTS</th>\n",
       "      <th>MARGIN OF SAFETY</th>\n",
       "      <th>ESG SCORE</th>\n",
       "    </tr>\n",
       "    <tr>\n",
       "      <th>TICKER</th>\n",
       "      <th></th>\n",
       "      <th></th>\n",
       "      <th></th>\n",
       "      <th></th>\n",
       "    </tr>\n",
       "  </thead>\n",
       "  <tbody>\n",
       "    <tr>\n",
       "      <th>META</th>\n",
       "      <td>16680</td>\n",
       "      <td>12681</td>\n",
       "      <td>45</td>\n",
       "      <td>1007.0</td>\n",
       "    </tr>\n",
       "    <tr>\n",
       "      <th>AAPL</th>\n",
       "      <td>119690</td>\n",
       "      <td>27502</td>\n",
       "      <td>45</td>\n",
       "      <td>886.0</td>\n",
       "    </tr>\n",
       "    <tr>\n",
       "      <th>AMZN</th>\n",
       "      <td>157560</td>\n",
       "      <td>37478</td>\n",
       "      <td>45</td>\n",
       "      <td>1428.0</td>\n",
       "    </tr>\n",
       "    <tr>\n",
       "      <th>NFLX</th>\n",
       "      <td>16910</td>\n",
       "      <td>5819</td>\n",
       "      <td>45</td>\n",
       "      <td>NaN</td>\n",
       "    </tr>\n",
       "    <tr>\n",
       "      <th>GOOG</th>\n",
       "      <td>28810</td>\n",
       "      <td>17936</td>\n",
       "      <td>45</td>\n",
       "      <td>1034.0</td>\n",
       "    </tr>\n",
       "  </tbody>\n",
       "</table>\n",
       "</div>"
      ],
      "text/plain": [
       "          DEBT  CASH & EQUIVALENTS  MARGIN OF SAFETY  ESG SCORE\n",
       "TICKER                                                         \n",
       "META     16680               12681                45     1007.0\n",
       "AAPL    119690               27502                45      886.0\n",
       "AMZN    157560               37478                45     1428.0\n",
       "NFLX     16910                5819                45        NaN\n",
       "GOOG     28810               17936                45     1034.0"
      ]
     },
     "execution_count": 3,
     "metadata": {},
     "output_type": "execute_result"
    }
   ],
   "source": [
    "#Convert the FAANG data csv to a datframe.\n",
    "faang_data_df = pd.read_csv(\n",
    "    Path('./FAANG_DATA/stock_data.csv'),\n",
    "    index_col=\"TICKER\", \n",
    ")\n",
    "faang_data_df.head()"
   ]
  },
  {
   "cell_type": "code",
   "execution_count": 4,
   "id": "441b09a1-a861-40af-bc1e-90b307c52521",
   "metadata": {},
   "outputs": [],
   "source": [
    "#Convert the individual FAANG company csv files to datframes.\n",
    "meta_df = pd.read_csv(\n",
    "    Path('./FAANG_DATA/meta.csv'),\n",
    "    index_col=\"YEAR\", \n",
    ")\n",
    "\n",
    "aapl_df = pd.read_csv(\n",
    "    Path('./FAANG_DATA/aapl.csv'),\n",
    "    index_col=\"YEAR\", \n",
    ")\n",
    "\n",
    "amzn_df = pd.read_csv(\n",
    "    Path('./FAANG_DATA/amzn.csv'),\n",
    "    index_col=\"YEAR\", \n",
    ")\n",
    "\n",
    "\n",
    "goog_df = pd.read_csv(\n",
    "    Path('./FAANG_DATA/goog.csv'),\n",
    "    index_col=\"YEAR\", \n",
    ")\n"
   ]
  },
  {
   "cell_type": "code",
   "execution_count": 5,
   "id": "2d70d9ba-7d60-4c83-887f-ca8bf9317408",
   "metadata": {},
   "outputs": [
    {
     "data": {
      "text/html": [
       "<div>\n",
       "<style scoped>\n",
       "    .dataframe tbody tr th:only-of-type {\n",
       "        vertical-align: middle;\n",
       "    }\n",
       "\n",
       "    .dataframe tbody tr th {\n",
       "        vertical-align: top;\n",
       "    }\n",
       "\n",
       "    .dataframe thead th {\n",
       "        text-align: right;\n",
       "    }\n",
       "</style>\n",
       "<table border=\"1\" class=\"dataframe\">\n",
       "  <thead>\n",
       "    <tr style=\"text-align: right;\">\n",
       "      <th></th>\n",
       "      <th>2017</th>\n",
       "      <th>2018</th>\n",
       "      <th>2019</th>\n",
       "      <th>2020</th>\n",
       "      <th>2021</th>\n",
       "    </tr>\n",
       "    <tr>\n",
       "      <th>YEAR</th>\n",
       "      <th></th>\n",
       "      <th></th>\n",
       "      <th></th>\n",
       "      <th></th>\n",
       "      <th></th>\n",
       "    </tr>\n",
       "  </thead>\n",
       "  <tbody>\n",
       "    <tr>\n",
       "      <th>PERIOD</th>\n",
       "      <td>1.0000</td>\n",
       "      <td>2.0000</td>\n",
       "      <td>3.0000</td>\n",
       "      <td>4.0000</td>\n",
       "      <td>5.0000</td>\n",
       "    </tr>\n",
       "    <tr>\n",
       "      <th>FCF</th>\n",
       "      <td>6410.0000</td>\n",
       "      <td>17296.0000</td>\n",
       "      <td>21653.0000</td>\n",
       "      <td>25924.0000</td>\n",
       "      <td>-14726.0000</td>\n",
       "    </tr>\n",
       "    <tr>\n",
       "      <th>WACC</th>\n",
       "      <td>0.1028</td>\n",
       "      <td>0.1339</td>\n",
       "      <td>0.1131</td>\n",
       "      <td>0.0769</td>\n",
       "      <td>0.0664</td>\n",
       "    </tr>\n",
       "  </tbody>\n",
       "</table>\n",
       "</div>"
      ],
      "text/plain": [
       "             2017        2018        2019        2020        2021\n",
       "YEAR                                                             \n",
       "PERIOD     1.0000      2.0000      3.0000      4.0000      5.0000\n",
       "FCF     6410.0000  17296.0000  21653.0000  25924.0000 -14726.0000\n",
       "WACC       0.1028      0.1339      0.1131      0.0769      0.0664"
      ]
     },
     "execution_count": 5,
     "metadata": {},
     "output_type": "execute_result"
    }
   ],
   "source": [
    "#preview one of the dataframes.\n",
    "amzn_df.head()"
   ]
  },
  {
   "cell_type": "markdown",
   "id": "d8992c2b-9be5-4d1d-b325-b52924d2e52b",
   "metadata": {
    "tags": []
   },
   "source": [
    "## Calculate the DCFs for each company"
   ]
  },
  {
   "cell_type": "markdown",
   "id": "f5f8d02a-9daf-43ea-a59d-58bea846b634",
   "metadata": {},
   "source": [
    "### META"
   ]
  },
  {
   "cell_type": "code",
   "execution_count": 6,
   "id": "a1ea1c13-06ae-4f8b-89be-2c43f0b4eae6",
   "metadata": {},
   "outputs": [],
   "source": [
    "#Discount the cash flows for META from 2017-2020.\n",
    "meta_growth_pv = meta_df.loc[\"FCF\"]/((1+meta_df.loc[\"WACC\"])**meta_df.loc[\"PERIOD\"])\n",
    "meta_growth_pv = meta_growth_pv.drop('2021')"
   ]
  },
  {
   "cell_type": "code",
   "execution_count": 7,
   "id": "07e07acc-7df9-42bd-8f1a-fc0a591566a0",
   "metadata": {},
   "outputs": [
    {
     "data": {
      "text/plain": [
       "558702.5089439774"
      ]
     },
     "execution_count": 7,
     "metadata": {},
     "output_type": "execute_result"
    }
   ],
   "source": [
    "#calculate the Terminal Value and discount to present value. Add the discounted cashflows and the discounted terminal value.\n",
    "meta_perpetuity_g = 0.05\n",
    "meta_perpetuity_pv = (meta_df.at['FCF', '2021']*(1+meta_perpetuity_g))/(meta_df.at['WACC', '2021']- meta_perpetuity_g)\n",
    "meta_wacc = meta_df.at['WACC', '2021']\n",
    "dcf_meta_perpetuity_pv = meta_perpetuity_pv/(1+(meta_wacc))**5\n",
    "dcf_meta_perpetuity_pv"
   ]
  },
  {
   "cell_type": "code",
   "execution_count": 8,
   "id": "311fe5ec-64e6-4503-95aa-b28996a793fb",
   "metadata": {},
   "outputs": [
    {
     "name": "stdout",
     "output_type": "stream",
     "text": [
      "621502.3783077226\n",
      "10.07\n",
      "0.45\n"
     ]
    }
   ],
   "source": [
    "#Preview the sum of all discounted cash flows\n",
    "meta_dcf = meta_growth_pv.sum() + dcf_meta_perpetuity_pv\n",
    "print(meta_dcf)\n",
    "#Add esg premium, which will be a percent increase of the esg score * 0.01.\n",
    "meta_esg = faang_data_df.loc[\"META\", \"ESG SCORE\"]*0.01\n",
    "print(meta_esg)\n",
    "meta_mos = faang_data_df.loc[\"META\", \"MARGIN OF SAFETY\"] * 0.01\n",
    "print(meta_mos)"
   ]
  },
  {
   "cell_type": "code",
   "execution_count": 9,
   "id": "fc990924-da0b-46a4-813b-869373837ee4",
   "metadata": {},
   "outputs": [
    {
     "name": "stdout",
     "output_type": "stream",
     "text": [
      "6835762.397866489\n",
      "3759669.3188265692\n",
      "9911855.47690641\n"
     ]
    }
   ],
   "source": [
    "#Subtract debt, add cash & equivalents. Apply margin. of safety for a range. \n",
    "meta_dcf = meta_dcf - faang_data_df.loc[\"META\", \"DEBT\"] + faang_data_df.loc[\"META\", \"CASH & EQUIVALENTS\"]\n",
    "meta_dcf = meta_dcf*(1+meta_esg)\n",
    "print(meta_dcf)\n",
    "meta_dcf_low = meta_dcf*(1-meta_mos)\n",
    "print(meta_dcf_low)\n",
    "meta_dcf_high = meta_dcf*(1+meta_mos)\n",
    "print(meta_dcf_high)"
   ]
  },
  {
   "cell_type": "markdown",
   "id": "5a67d035-1c63-4af9-8603-64e2076aceb7",
   "metadata": {},
   "source": [
    "### AAPL"
   ]
  },
  {
   "cell_type": "code",
   "execution_count": 10,
   "id": "7c58c8f8-b641-4b26-aa14-2022a9db6cb8",
   "metadata": {},
   "outputs": [],
   "source": [
    "#Discount the cash flows for AAPL from 2017-2020.\n",
    "aapl_growth_pv = aapl_df.loc[\"FCF\"]/((1+aapl_df.loc[\"WACC\"])**aapl_df.loc[\"PERIOD\"])\n",
    "aapl_growth_pv = aapl_growth_pv.drop('2021')"
   ]
  },
  {
   "cell_type": "code",
   "execution_count": 11,
   "id": "d1162cb3-e716-48c3-914c-8810fc3acb90",
   "metadata": {},
   "outputs": [],
   "source": [
    "#calculate the Terminal Value and discount to present value. Add the discounted cashflows and the discounted terminal value.\n",
    "aapl_perpetuity_g = 0.05\n",
    "aapl_perpetuity_pv = (aapl_df.at['FCF', '2020']*(1+aapl_perpetuity_g))/(aapl_df.at['WACC', '2021']- aapl_perpetuity_g)\n",
    "aapl_wacc = aapl_df.at['WACC', '2021']\n",
    "dcf_aapl_perpetuity_pv = aapl_perpetuity_pv/(1+(aapl_wacc))**5"
   ]
  },
  {
   "cell_type": "code",
   "execution_count": 12,
   "id": "c7694d9a-51e2-4373-af8b-8d97ff62bd90",
   "metadata": {},
   "outputs": [
    {
     "data": {
      "text/plain": [
       "1510660.4295669312"
      ]
     },
     "execution_count": 12,
     "metadata": {},
     "output_type": "execute_result"
    }
   ],
   "source": [
    "#Preview the sum of all discounted cash flows\n",
    "aapl_dcf = aapl_growth_pv.sum() + dcf_aapl_perpetuity_pv\n",
    "aapl_dcf"
   ]
  },
  {
   "cell_type": "code",
   "execution_count": 13,
   "id": "04fb35cc-9c05-4631-8737-2e5b3040137a",
   "metadata": {},
   "outputs": [],
   "source": [
    "#Add esg premium, which will be a percent increase of the esg score * 0.01.\n",
    "aapl_esg = faang_data_df.loc[\"AAPL\", \"ESG SCORE\"]*0.01\n",
    "\n",
    "aapl_mos = faang_data_df.loc[\"AAPL\", \"MARGIN OF SAFETY\"] * 0.01"
   ]
  },
  {
   "cell_type": "code",
   "execution_count": 14,
   "id": "2e25b071-6dd4-49ad-af2e-4b67b1630ff8",
   "metadata": {},
   "outputs": [
    {
     "data": {
      "text/plain": [
       "13986138.15552994"
      ]
     },
     "execution_count": 14,
     "metadata": {},
     "output_type": "execute_result"
    }
   ],
   "source": [
    "#Subtract debt, add cash & equivalents. Apply margin. of safety for a range. \n",
    "aapl_dcf = aapl_dcf - faang_data_df.loc[\"AAPL\", \"DEBT\"] + faang_data_df.loc[\"AAPL\", \"CASH & EQUIVALENTS\"]\n",
    "aapl_dcf = aapl_dcf*(1+aapl_esg)\n",
    "aapl_dcf_low = aapl_dcf*(1-aapl_mos)\n",
    "aapl_dcf_high = aapl_dcf*(1+aapl_mos)\n",
    "aapl_dcf"
   ]
  },
  {
   "cell_type": "markdown",
   "id": "4a466c3a-944e-42ac-a28c-f6766f286248",
   "metadata": {},
   "source": [
    "### AMZN"
   ]
  },
  {
   "cell_type": "code",
   "execution_count": 15,
   "id": "1b23050b-d485-44ce-8bbd-3b1cb73507f2",
   "metadata": {},
   "outputs": [
    {
     "data": {
      "text/plain": [
       "2017     5812.477330\n",
       "2018    13452.288293\n",
       "2019    15700.573909\n",
       "2020    19275.271542\n",
       "dtype: float64"
      ]
     },
     "execution_count": 15,
     "metadata": {},
     "output_type": "execute_result"
    }
   ],
   "source": [
    "#Discount the cash flows for AAPL from 2017-2020.\n",
    "amzn_growth_pv = amzn_df.loc[\"FCF\"]/((1+amzn_df.loc[\"WACC\"])**amzn_df.loc[\"PERIOD\"])\n",
    "amzn_growth_pv = amzn_growth_pv.drop('2021')\n",
    "amzn_growth_pv"
   ]
  },
  {
   "cell_type": "code",
   "execution_count": 16,
   "id": "d455454d-ab95-4bed-b53f-0f9a33eb5c49",
   "metadata": {},
   "outputs": [
    {
     "data": {
      "text/plain": [
       "17794.0"
      ]
     },
     "execution_count": 16,
     "metadata": {},
     "output_type": "execute_result"
    }
   ],
   "source": [
    "amzn_positive_fcf = (0.2*amzn_df.at['FCF', '2021'] + 0.8*amzn_df.at['FCF', '2020'])\n",
    "amzn_positive_fcf"
   ]
  },
  {
   "cell_type": "code",
   "execution_count": 17,
   "id": "afa22114-ba77-4a72-ab7d-8df2527d94e9",
   "metadata": {},
   "outputs": [
    {
     "name": "stdout",
     "output_type": "stream",
     "text": [
      "1139250.0000000002\n"
     ]
    }
   ],
   "source": [
    "#Calculate the Terminal Value and discount to present value. Add the discounted cashflows and the discounted terminal value.\n",
    "amzn_perpetuity_g = 0.05\n",
    "amzn_perpetuity_pv = (amzn_positive_fcf*(1+amzn_perpetuity_g))/(amzn_df.at['WACC', '2021']- amzn_perpetuity_g)\n",
    "amzn_wacc = amzn_df.at['WACC', '2021']\n",
    "dcf_amzn_perpetuity_pv = amzn_perpetuity_pv/(1+(amzn_wacc))**5\n",
    "print(amzn_perpetuity_pv)"
   ]
  },
  {
   "cell_type": "code",
   "execution_count": 18,
   "id": "bb6cd733-3471-4a11-bf7f-26feab6f453e",
   "metadata": {},
   "outputs": [
    {
     "data": {
      "text/plain": [
       "880313.4734454678"
      ]
     },
     "execution_count": 18,
     "metadata": {},
     "output_type": "execute_result"
    }
   ],
   "source": [
    "#Preview the sum of all discounted cash flows\n",
    "amzn_dcf = amzn_growth_pv.sum() + dcf_amzn_perpetuity_pv\n",
    "amzn_dcf"
   ]
  },
  {
   "cell_type": "code",
   "execution_count": 19,
   "id": "08b0d27f-1dda-4ef2-be10-3443e8d7b00a",
   "metadata": {},
   "outputs": [],
   "source": [
    "#Add esg premium, which will be a percent increase of the esg score * 0.01.\n",
    "amzn_esg = faang_data_df.loc[\"AMZN\", \"ESG SCORE\"]*0.01\n",
    "\n",
    "amzn_mos = faang_data_df.loc[\"AMZN\", \"MARGIN OF SAFETY\"] * 0.01"
   ]
  },
  {
   "cell_type": "code",
   "execution_count": 20,
   "id": "7a77c21e-1232-4d84-8c91-1c8bc35b1bcf",
   "metadata": {},
   "outputs": [
    {
     "data": {
      "text/plain": [
       "11616336.91424675"
      ]
     },
     "execution_count": 20,
     "metadata": {},
     "output_type": "execute_result"
    }
   ],
   "source": [
    "#Subtract debt, add cash & equivalents. Apply margin. of safety for a range. \n",
    "amzn_dcf = amzn_dcf - faang_data_df.loc[\"AMZN\", \"DEBT\"] + faang_data_df.loc[\"AMZN\", \"CASH & EQUIVALENTS\"]\n",
    "amzn_dcf = amzn_dcf*(1+amzn_esg)\n",
    "amzn_dcf_low = amzn_dcf*(1-amzn_mos)\n",
    "amzn_dcf_high = amzn_dcf*(1+amzn_mos)\n",
    "\n",
    "amzn_dcf"
   ]
  },
  {
   "cell_type": "markdown",
   "id": "307a7c48-18a4-4eb8-8e34-5a8c8bb07dd7",
   "metadata": {},
   "source": [
    "### GOOG"
   ]
  },
  {
   "cell_type": "code",
   "execution_count": 21,
   "id": "2681227d-1b83-4f45-b716-50fa46b276d3",
   "metadata": {},
   "outputs": [],
   "source": [
    "#Discount the cash flows for META from 2017-2020.\n",
    "goog_growth_pv = goog_df.loc[\"FCF\"]/((1+goog_df.loc[\"WACC\"])**goog_df.loc[\"PERIOD\"])\n",
    "goog_growth_pv = goog_growth_pv.drop('2021')"
   ]
  },
  {
   "cell_type": "code",
   "execution_count": 22,
   "id": "e0b908e9-a21b-4de4-bef4-adaffd6f73ad",
   "metadata": {},
   "outputs": [
    {
     "data": {
      "text/plain": [
       "2080552.922620001"
      ]
     },
     "execution_count": 22,
     "metadata": {},
     "output_type": "execute_result"
    }
   ],
   "source": [
    "#calculate the Terminal Value and discount to present value. Add the discounted cashflows and the discounted terminal value.\n",
    "goog_perpetuity_g = 0.05\n",
    "goog_perpetuity_pv = (goog_df.at['FCF', '2021']*(1+goog_perpetuity_g))/(goog_df.at['WACC', '2021']- goog_perpetuity_g)\n",
    "goog_wacc = goog_df.at['WACC', '2021']\n",
    "dcf_goog_perpetuity_pv = goog_perpetuity_pv/(1+(goog_wacc))**5\n",
    "dcf_goog_perpetuity_pv"
   ]
  },
  {
   "cell_type": "code",
   "execution_count": 23,
   "id": "877c543b-0474-4fce-b497-bc50f1ce808a",
   "metadata": {},
   "outputs": [
    {
     "name": "stdout",
     "output_type": "stream",
     "text": [
      "2179049.5819982053\n",
      "10.34\n",
      "0.45\n"
     ]
    }
   ],
   "source": [
    "#Preview the sum of all discounted cash flows\n",
    "goog_dcf = goog_growth_pv.sum() + dcf_goog_perpetuity_pv\n",
    "print(goog_dcf)\n",
    "#Add esg premium, which will be a percent increase of the esg score * 0.01.\n",
    "goog_esg = faang_data_df.loc[\"GOOG\", \"ESG SCORE\"]*0.01\n",
    "print(goog_esg)\n",
    "goog_mos = faang_data_df.loc[\"GOOG\", \"MARGIN OF SAFETY\"] * 0.01\n",
    "print(goog_mos)"
   ]
  },
  {
   "cell_type": "code",
   "execution_count": 24,
   "id": "ea43e52c-54c5-40c2-9690-3ac6e8e0b4d7",
   "metadata": {},
   "outputs": [
    {
     "name": "stdout",
     "output_type": "stream",
     "text": [
      "24587111.099859647\n",
      "13522911.104922807\n",
      "35651311.094796486\n"
     ]
    }
   ],
   "source": [
    "#Subtract debt, add cash & equivalents. Apply margin. of safety for a range. \n",
    "goog_dcf = goog_dcf - faang_data_df.loc[\"GOOG\", \"DEBT\"] + faang_data_df.loc[\"GOOG\", \"CASH & EQUIVALENTS\"]\n",
    "goog_dcf = goog_dcf*(1+goog_esg)\n",
    "print(goog_dcf)\n",
    "goog_dcf_low = goog_dcf*(1-goog_mos)\n",
    "print(goog_dcf_low)\n",
    "goog_dcf_high =goog_dcf*(1+goog_mos)\n",
    "print(goog_dcf_high)"
   ]
  },
  {
   "cell_type": "markdown",
   "id": "7f1aa587-a4c4-4ccc-bd94-069419c836c8",
   "metadata": {
    "tags": []
   },
   "source": [
    "## Print the results"
   ]
  },
  {
   "cell_type": "markdown",
   "id": "bf5cc862-6c56-49b1-ad2a-1150c089d827",
   "metadata": {},
   "source": [
    "### META"
   ]
  },
  {
   "cell_type": "code",
   "execution_count": 25,
   "id": "feeaa04a-7124-457e-85d7-8a83348430d5",
   "metadata": {},
   "outputs": [
    {
     "name": "stdout",
     "output_type": "stream",
     "text": [
      "The fair value of META with an ESG premium of 10.07% and a 45% margin of satefy should fall between:\n",
      "$3759669.32 and $9911855.48.\n",
      "Our mean fair value is $6835762.40.\n"
     ]
    }
   ],
   "source": [
    "print(f\"The fair value of META with an ESG premium of {meta_esg}% and a 45% margin of satefy should fall between:\")\n",
    "print(f\"${meta_dcf_low:.2f} and ${meta_dcf_high:.2f}.\")\n",
    "print(f\"Our mean fair value is ${meta_dcf:.2f}.\")"
   ]
  },
  {
   "cell_type": "markdown",
   "id": "23088677-d38a-401e-9e72-6ffb6cd354ce",
   "metadata": {
    "tags": []
   },
   "source": [
    "### AAPL"
   ]
  },
  {
   "cell_type": "code",
   "execution_count": 26,
   "id": "46387842-2a02-4f4e-b128-5b3a6dd025c7",
   "metadata": {},
   "outputs": [
    {
     "name": "stdout",
     "output_type": "stream",
     "text": [
      "The fair value of AAPL with an ESG premium of 8.86% and a 45% margin of satefy should fall between:\n",
      "$7692375.99 and $20279900.33.\n",
      "Our mean fair value is $13986138.16.\n"
     ]
    }
   ],
   "source": [
    "print(f\"The fair value of AAPL with an ESG premium of {aapl_esg}% and a 45% margin of satefy should fall between:\")\n",
    "print(f\"${aapl_dcf_low:.2f} and ${aapl_dcf_high:.2f}.\")\n",
    "print(f\"Our mean fair value is ${aapl_dcf:.2f}.\")"
   ]
  },
  {
   "cell_type": "markdown",
   "id": "e95bb94e-76ed-42e9-af9d-6a11406e0bb9",
   "metadata": {},
   "source": [
    "### AMZN"
   ]
  },
  {
   "cell_type": "code",
   "execution_count": 27,
   "id": "16a54b26-d338-405b-b09a-656ab49bb5e8",
   "metadata": {},
   "outputs": [
    {
     "name": "stdout",
     "output_type": "stream",
     "text": [
      "The fair value of AMZN with an ESG premium of 14.280000000000001% and a 45% margin of satefy should fall between:\n",
      "$6388985.30 and $16843688.53.\n",
      "Our mean fair value is $11616336.91.\n"
     ]
    }
   ],
   "source": [
    "print(f\"The fair value of AMZN with an ESG premium of {amzn_esg}% and a 45% margin of satefy should fall between:\")\n",
    "print(f\"${amzn_dcf_low:.2f} and ${amzn_dcf_high:.2f}.\")\n",
    "print(f\"Our mean fair value is ${amzn_dcf:.2f}.\")"
   ]
  },
  {
   "cell_type": "markdown",
   "id": "606883da-1c34-43d8-9f40-50bef4626101",
   "metadata": {},
   "source": [
    "### GOOG"
   ]
  },
  {
   "cell_type": "code",
   "execution_count": 28,
   "id": "5e0cd262-7ca7-4a32-812a-14dea3968558",
   "metadata": {},
   "outputs": [
    {
     "name": "stdout",
     "output_type": "stream",
     "text": [
      "The fair value of GOOG with an ESG premium of 10.34% and a 45% margin of satefy should fall between:\n",
      "$13522911.10 and $35651311.09.\n",
      "Our mean fair value is $24587111.10.\n"
     ]
    }
   ],
   "source": [
    "print(f\"The fair value of GOOG with an ESG premium of {goog_esg}% and a 45% margin of satefy should fall between:\")\n",
    "print(f\"${goog_dcf_low:.2f} and ${goog_dcf_high:.2f}.\")\n",
    "print(f\"Our mean fair value is ${goog_dcf:.2f}.\")"
   ]
  },
  {
   "cell_type": "markdown",
   "id": "eb24c8a0-4d01-4770-8619-a22f3592dcec",
   "metadata": {},
   "source": [
    "## Save the results"
   ]
  },
  {
   "cell_type": "code",
   "execution_count": 29,
   "id": "7d6f2a5d-7b22-4d37-b809-bc7cfa85ecb8",
   "metadata": {},
   "outputs": [],
   "source": [
    "pd.set_option('display.float_format', '{:.2f}'.format)\n",
    "data = [['META', meta_esg, 45, meta_dcf_low, meta_dcf_high, meta_dcf],\n",
    "        ['AAPL', aapl_esg, 45, aapl_dcf_low, aapl_dcf_high, aapl_dcf],\n",
    "        ['AMZN', amzn_esg, 45, amzn_dcf_low, amzn_dcf_high, amzn_dcf],\n",
    "        ['GOOG', goog_esg, 45, goog_dcf_low, goog_dcf_high, goog_dcf]]\n",
    "res_df = pd.DataFrame(\n",
    "    data,\n",
    "    columns = ['symbol', 'esg_prem', 'margin_of_safety', 'dcf_low', 'dcf_high', 'dcf']\n",
    ")\n",
    "res_df.to_csv('./FAANG_DATA/res.csv', index = False)"
   ]
  }
 ],
 "metadata": {
  "kernelspec": {
   "display_name": "Python 3 (ipykernel)",
   "language": "python",
   "name": "python3"
  },
  "language_info": {
   "codemirror_mode": {
    "name": "ipython",
    "version": 3
   },
   "file_extension": ".py",
   "mimetype": "text/x-python",
   "name": "python",
   "nbconvert_exporter": "python",
   "pygments_lexer": "ipython3",
   "version": "3.9.13"
  }
 },
 "nbformat": 4,
 "nbformat_minor": 5
}
